{
 "cells": [
  {
   "cell_type": "code",
   "execution_count": 2,
   "metadata": {},
   "outputs": [
    {
     "name": "stdout",
     "output_type": "stream",
     "text": [
      "Tidak ditemukan informasi waktu pencarian.\n"
     ]
    }
   ],
   "source": [
    "import re\n",
    "\n",
    "# Contoh string\n",
    "result_string = \"# Search time: 0,000 seconds\"\n",
    "\n",
    "# Pola regex untuk mengekstrak angka desimal\n",
    "pattern = re.compile(r'Search time: (\\d+\\.\\d+) seconds')\n",
    "\n",
    "# Mencocokkan pola regex dengan string\n",
    "match = pattern.search(result_string)\n",
    "\n",
    "# Mengambil nilai angka dari hasil pencocokan\n",
    "if match:\n",
    "    search_time = match.group(1)\n",
    "    print(\"Search time:\", search_time)\n",
    "else:\n",
    "    print(\"Tidak ditemukan informasi waktu pencarian.\")\n"
   ]
  },
  {
   "cell_type": "code",
   "execution_count": 5,
   "metadata": {},
   "outputs": [
    {
     "ename": "ValueError",
     "evalue": "could not convert string to float: '0,000'",
     "output_type": "error",
     "traceback": [
      "\u001b[0;31m---------------------------------------------------------------------------\u001b[0m",
      "\u001b[0;31mValueError\u001b[0m                                Traceback (most recent call last)",
      "\u001b[1;32m/home/furqan/Documents/Kuliah/Semester 5/Penelusuran Informasi/projek mata kuliah/notebook.ipynb Cell 2\u001b[0m line \u001b[0;36m3\n\u001b[1;32m      <a href='vscode-notebook-cell:/home/furqan/Documents/Kuliah/Semester%205/Penelusuran%20Informasi/projek%20mata%20kuliah/notebook.ipynb#W1sZmlsZQ%3D%3D?line=0'>1</a>\u001b[0m result_string \u001b[39m=\u001b[39m \u001b[39m\"\u001b[39m\u001b[39m# Search time: 0,000 seconds\u001b[39m\u001b[39m\"\u001b[39m\n\u001b[0;32m----> <a href='vscode-notebook-cell:/home/furqan/Documents/Kuliah/Semester%205/Penelusuran%20Informasi/projek%20mata%20kuliah/notebook.ipynb#W1sZmlsZQ%3D%3D?line=2'>3</a>\u001b[0m \u001b[39mprint\u001b[39m( \u001b[39mfloat\u001b[39;49m(result_string[\u001b[39m15\u001b[39;49m:\u001b[39m20\u001b[39;49m]) )\n",
      "\u001b[0;31mValueError\u001b[0m: could not convert string to float: '0,000'"
     ]
    }
   ],
   "source": [
    "result_string = \"# Search time: 0,000 seconds\"\n",
    "\n",
    "print( float(result_string[15:20]) )"
   ]
  },
  {
   "cell_type": "code",
   "execution_count": 6,
   "metadata": {},
   "outputs": [
    {
     "name": "stdout",
     "output_type": "stream",
     "text": [
      "Search time: 0.0\n"
     ]
    }
   ],
   "source": [
    "result_string = \"# Search time: 0,000 seconds\"\n",
    "\n",
    "# Mengganti tanda koma dengan tanda titik\n",
    "result_string = result_string.replace(',', '.')\n",
    "\n",
    "# Mengonversi string menjadi float\n",
    "search_time = float(result_string[15:20])\n",
    "\n",
    "print(\"Search time:\", search_time)"
   ]
  },
  {
   "cell_type": "code",
   "execution_count": 9,
   "metadata": {},
   "outputs": [
    {
     "name": "stdout",
     "output_type": "stream",
     "text": [
      "Search time: 0.001\n"
     ]
    }
   ],
   "source": [
    "result_string = \"# Search time: 0,001 seconds\"\n",
    "\n",
    "# Mengganti tanda koma dengan tanda titik\n",
    "result_string = result_string.replace(',', '.')\n",
    "\n",
    "# Mengonversi string menjadi float\n",
    "search_time = float(result_string[15:20])\n",
    "\n",
    "# Menampilkan tiga angka di belakang koma\n",
    "rounded_search_time = round(search_time, 3)\n",
    "\n",
    "print(\"Search time:\", rounded_search_time)\n"
   ]
  },
  {
   "cell_type": "code",
   "execution_count": 13,
   "metadata": {},
   "outputs": [
    {
     "name": "stdout",
     "output_type": "stream",
     "text": [
      "Number of hits: 3\n"
     ]
    }
   ],
   "source": [
    "import re\n",
    "\n",
    "# Contoh string\n",
    "hits_string = \"# Number of hits: 3\"\n",
    "\n",
    "# Pola regex untuk mengekstrak angka\n",
    "pattern = re.compile(r'Number of hits: (\\d+)')\n",
    "\n",
    "# Mencocokkan pola regex dengan string\n",
    "match = pattern.search(hits_string)\n",
    "\n",
    "# Mengambil nilai angka dari hasil pencocokan\n",
    "if match:\n",
    "    number_of_hits = int(match.group(1))\n",
    "    print(\"Number of hits:\", number_of_hits)\n",
    "else:\n",
    "    print(\"Tidak ditemukan informasi jumlah hasil.\")\n"
   ]
  },
  {
   "cell_type": "code",
   "execution_count": 18,
   "metadata": {},
   "outputs": [
    {
     "name": "stdout",
     "output_type": "stream",
     "text": [
      "Search time (seconds): 0.002\n"
     ]
    }
   ],
   "source": [
    "import re\n",
    "\n",
    "# Contoh string\n",
    "search_time_string = \"# Search time: 0,002 seconds\"\n",
    "\n",
    "search_time_string = search_time_string.replace(',', '.')\n",
    "\n",
    "# Pola regex untuk mengekstrak angka dengan tiga digit di belakang koma\n",
    "pattern = re.compile(r'Search time: (\\d+\\.\\d{3}) seconds')\n",
    "\n",
    "# Mencocokkan pola regex dengan string\n",
    "match = pattern.search(search_time_string)\n",
    "\n",
    "# Mengambil nilai angka dari hasil pencocokan\n",
    "if match:\n",
    "    search_time_seconds = float(match.group(1))\n",
    "    print(\"Search time (seconds):\", search_time_seconds)\n",
    "else:\n",
    "    print(\"Tidak ditemukan informasi waktu pencarian.\")\n"
   ]
  },
  {
   "cell_type": "code",
   "execution_count": 19,
   "metadata": {},
   "outputs": [
    {
     "name": "stdout",
     "output_type": "stream",
     "text": [
      "['./data/43.txt', './data/2.txt', './data/16.txt']\n"
     ]
    }
   ],
   "source": [
    "import re\n",
    "\n",
    "# Contoh list string\n",
    "result_strings = [\n",
    "    \"1000 ./data/43.txt \\\"43.txt\\\" 1440\",\n",
    "    \"499 ./data/2.txt \\\"2.txt\\\" 2005\",\n",
    "    \"499 ./data/16.txt \\\"16.txt\\\" 2266\"\n",
    "]\n",
    "\n",
    "# Pola regex untuk mengekstrak path\n",
    "pattern = re.compile(r'(\\./data/\\S+\\.txt)')\n",
    "\n",
    "# List untuk menyimpan path hasil ekstraksi\n",
    "extracted_paths = []\n",
    "\n",
    "# Iterasi melalui list string\n",
    "for result_string in result_strings:\n",
    "    # Mencocokkan pola regex dengan string\n",
    "    match = pattern.search(result_string)\n",
    "\n",
    "    # Mengambil nilai path dari hasil pencocokan\n",
    "    if match:\n",
    "        path = match.group(1)\n",
    "        extracted_paths.append(path)\n",
    "\n",
    "# Menampilkan list path hasil ekstraksi\n",
    "print(extracted_paths)\n"
   ]
  },
  {
   "cell_type": "code",
   "execution_count": 3,
   "metadata": {},
   "outputs": [
    {
     "data": {
      "text/plain": [
       "'time ./querydb cuci'"
      ]
     },
     "execution_count": 3,
     "metadata": {},
     "output_type": "execute_result"
    }
   ],
   "source": [
    "input_text = \"cuci\"\n",
    "command = f\"time ./querydb {input_text}\"\n",
    "\n",
    "command"
   ]
  },
  {
   "cell_type": "code",
   "execution_count": 4,
   "metadata": {},
   "outputs": [
    {
     "name": "stdout",
     "output_type": "stream",
     "text": [
      "#Word ['kedua']\n",
      "#Word ['infeksi'], fw (num of doc containing the word) = 17.000000\n",
      "#Word ['cacingan'], fw (num of doc containing the word) = 36.000000\n",
      "#Word ['none']\n",
      "#Word ['kedua']\n"
     ]
    }
   ],
   "source": [
    "import re\n",
    "\n",
    "output = \"\"\"#Found 2355 distict terms in 49 documents\n",
    "#Word ['kedua']\n",
    "\n",
    "\n",
    "#Word ['infeksi'], fw (num of doc containing the word) = 17.000000\n",
    "#Word ['cacingan'], fw (num of doc containing the word) = 36.000000\n",
    "#Word ['none']\n",
    "\n",
    "#Top 15th documents are:\n",
    "5 4.538949\n",
    "29 3.770549\n",
    "41 3.770549\n",
    "9 3.770549\n",
    "48 3.724853\n",
    "14 3.568114\n",
    "28 3.552588\n",
    "26 3.209569\n",
    "32 3.077048\n",
    "46 2.829733\n",
    "20 2.484804\n",
    "12 2.435617\n",
    "44 2.324423\n",
    "23 2.324423\n",
    "27 2.324423\n",
    "#Word ['kedua']\n",
    "#Time required: 0.000000 mseconds\n",
    "\"\"\"\n",
    "\n",
    "# Pattern regex untuk mencocokkan baris yang mengandung '#Word'\n",
    "pattern = re.compile(r'#Word .+')\n",
    "\n",
    "# Mencocokkan pattern dengan setiap baris output\n",
    "matches = pattern.findall(output)\n",
    "\n",
    "# Menampilkan hasil\n",
    "for match in matches:\n",
    "    print(match)\n"
   ]
  },
  {
   "cell_type": "code",
   "execution_count": 7,
   "metadata": {},
   "outputs": [
    {
     "name": "stdout",
     "output_type": "stream",
     "text": [
      "Keyword: infeksi, Value: 17.000000\n",
      "Keyword: cacingan, Value: 36.000000\n"
     ]
    }
   ],
   "source": [
    "import re\n",
    "\n",
    "output = [\"#Found 2355 distict terms in 49 documents\",\n",
    "\"\",\n",
    "\"#Word ['infeksi'], fw (num of doc containing the word) = 17.000000\",\n",
    "\"#Word ['cacingan'], fw (num of doc containing the word) = 36.000000\",\n",
    "\"\",\n",
    "\"#Top 15th documents are:\",\n",
    "\"5 4.538949\",\n",
    "\"29 3.770549\",\n",
    "\"41 3.770549\",\n",
    "\"9 3.770549\",\n",
    "\"48 3.724853\",\n",
    "\"14 3.568114\",\n",
    "\"28 3.552588\",\n",
    "\"26 3.209569\",\n",
    "\"32 3.077048\",\n",
    "\"46 2.829733\",\n",
    "\"20 2.484804\",\n",
    "\"12 2.435617\",\n",
    "\"44 2.324423\",\n",
    "\"23 2.324423\",\n",
    "\"27 2.324423\",\n",
    "\"#Time required: 0.000000 mseconds\"]\n",
    "\n",
    "# Pattern regex untuk mencocokkan baris yang mengandung '#Word' dengan informasi yang ingin diekstrak\n",
    "pattern = re.compile(r\"#Word \\['(\\w+)'\\], fw \\(num of doc containing the word\\) = (\\d+\\.\\d+)\")\n",
    "\n",
    "# Mencocokkan pattern dengan setiap baris output\n",
    "matches = pattern.findall(output)\n",
    "\n",
    "# Menampilkan hasil\n",
    "# for match in matches:\n",
    "#     keyword, value = match\n",
    "#     print(f\"Keyword: {keyword}, Value: {value}\")\n"
   ]
  },
  {
   "cell_type": "code",
   "execution_count": 15,
   "metadata": {},
   "outputs": [
    {
     "data": {
      "text/plain": [
       "('cacingan', '36.000000')"
      ]
     },
     "execution_count": 15,
     "metadata": {},
     "output_type": "execute_result"
    }
   ],
   "source": [
    "matches[1]"
   ]
  },
  {
   "cell_type": "code",
   "execution_count": 17,
   "metadata": {},
   "outputs": [
    {
     "name": "stdout",
     "output_type": "stream",
     "text": [
      "#Word ['infeksi']\n",
      "#Word ['infeksi']\n",
      "#Word ['infeksi']\n",
      "#Word ['infeksi'], fw (num of doc containing the word) = 17.000000\n",
      "#Word ['cacingan'], fw (num of doc containing the word) = 36.000000\n"
     ]
    }
   ],
   "source": [
    "# List output yang diberikan\n",
    "output = [\n",
    "    \"#Found 2355 distict terms in 49 documents\",\n",
    "    \"\",\n",
    "    \"#Word ['infeksi'], fw (num of doc containing the word) = 17.000000\",\n",
    "    \"#Word ['cacingan'], fw (num of doc containing the word) = 36.000000\",\n",
    "    \"\",\n",
    "    \"#Top 15th documents are:\",\n",
    "    \"5 4.538949\",\n",
    "    \"29 3.770549\",\n",
    "    \"41 3.770549\",\n",
    "    \"9 3.770549\",\n",
    "    \"48 3.724853\",\n",
    "    \"14 3.568114\",\n",
    "    \"28 3.552588\",\n",
    "    \"26 3.209569\",\n",
    "    \"32 3.077048\",\n",
    "    \"46 2.829733\",\n",
    "    \"20 2.484804\",\n",
    "    \"12 2.435617\",\n",
    "    \"44 2.324423\",\n",
    "    \"23 2.324423\",\n",
    "    \"27 2.324423\",\n",
    "    \"#Time required: 0.000000 mseconds\"\n",
    "]\n",
    "\n",
    "# Mengekstrak baris yang memiliki kata '#Word'\n",
    "word_lines = [line for line in output if line.startswith(\"#Word\")]\n",
    "\n",
    "# Menampilkan hasil\n",
    "for word_line in word_lines:\n",
    "    print(word_line)\n"
   ]
  },
  {
   "cell_type": "code",
   "execution_count": 46,
   "metadata": {},
   "outputs": [
    {
     "name": "stdout",
     "output_type": "stream",
     "text": [
      "Keyword: infeksi, Value: 17.000000\n",
      "Keyword: cacingan, Value: 36.000000\n",
      "Keyword: furqan, Value: 50.000000\n",
      "Keyword: maura, Value: 39.000000\n"
     ]
    }
   ],
   "source": [
    "import re\n",
    "\n",
    "# List output yang diberikan\n",
    "output = [\n",
    "    \"#Found 2355 distict terms in 49 documents\",\n",
    "    \"\",\n",
    "    \"#Word ['infeksi'], fw (num of doc containing the word) = 17.000000\",\n",
    "    \"#Word ['cacingan'], fw (num of doc containing the word) = 36.000000\",\n",
    "    \"#Word ['furqan'], fw (num of doc containing the word) = 50.000000\",\n",
    "    \"#Word ['maura'], fw (num of doc containing the word) = 39.000000\",\n",
    "    \"\",\n",
    "    \"#Top 15th documents are:\",\n",
    "    \"5 4.538949\",\n",
    "    \"29 3.770549\",\n",
    "    \"41 3.770549\",\n",
    "    \"9 3.770549\",\n",
    "    \"48 3.724853\",\n",
    "    \"14 3.568114\",\n",
    "    \"28 3.552588\",\n",
    "    \"26 3.209569\",\n",
    "    \"32 3.077048\",\n",
    "    \"46 2.829733\",\n",
    "    \"20 2.484804\",\n",
    "    \"12 2.435617\",\n",
    "    \"44 2.324423\",\n",
    "    \"23 2.324423\",\n",
    "    \"27 2.324423\",\n",
    "    \"#Time required: 0.000000 mseconds\"\n",
    "]\n",
    "\n",
    "# Pattern regex untuk mencocokkan informasi dari setiap baris '#Word'\n",
    "pattern = re.compile(r\"#Word \\['(\\w+)'\\], fw \\(num of doc containing the word\\) = (\\d+\\.\\d+)\")\n",
    "\n",
    "# Mengekstrak kueri dan jumlah hits dari setiap baris yang memenuhi\n",
    "matches = [pattern.match(line) for line in output if line.startswith(\"#Word\")]\n",
    "\n",
    "# Menampilkan hasil\n",
    "for match in matches:\n",
    "    if match:\n",
    "        keyword, value = match.groups()\n",
    "        print(f\"Keyword: {keyword}, Value: {value}\")\n"
   ]
  },
  {
   "cell_type": "code",
   "execution_count": 49,
   "metadata": {},
   "outputs": [
    {
     "name": "stdout",
     "output_type": "stream",
     "text": [
      "Keywords: ['infeksi', 'cacingan', 'furqan', 'maura']\n",
      "Values: [17.0, 36.0, 50.0, 39.0]\n"
     ]
    }
   ],
   "source": [
    "import re\n",
    "\n",
    "# List output yang diberikan\n",
    "output = [\n",
    "    \"#Found 2355 distict terms in 49 documents\",\n",
    "    \"\",\n",
    "    \"#Word ['infeksi'], fw (num of doc containing the word) = 17.000000\",\n",
    "    \"#Word ['cacingan'], fw (num of doc containing the word) = 36.000000\",\n",
    "    \"#Word ['furqan'], fw (num of doc containing the word) = 50.000000\",\n",
    "    \"#Word ['maura'], fw (num of doc containing the word) = 39.000000\",\n",
    "    \"\",\n",
    "    \"#Top 15th documents are:\",\n",
    "    \"5 4.538949\",\n",
    "    \"29 3.770549\",\n",
    "    \"41 3.770549\",\n",
    "    \"9 3.770549\",\n",
    "    \"48 3.724853\",\n",
    "    \"14 3.568114\",\n",
    "    \"28 3.552588\",\n",
    "    \"26 3.209569\",\n",
    "    \"32 3.077048\",\n",
    "    \"46 2.829733\",\n",
    "    \"20 2.484804\",\n",
    "    \"12 2.435617\",\n",
    "    \"44 2.324423\",\n",
    "    \"23 2.324423\",\n",
    "    \"27 2.324423\",\n",
    "    \"#Time required: 0.000000 mseconds\"\n",
    "]\n",
    "\n",
    "# Inisialisasi dua list terpisah untuk menyimpan keyword dan value\n",
    "keywords = []\n",
    "values = []\n",
    "\n",
    "# Pattern regex untuk mencocokkan informasi dari setiap baris '#Word'\n",
    "pattern = re.compile(r\"#Word \\['(\\w+)'\\], fw \\(num of doc containing the word\\) = (\\d+\\.\\d+)\")\n",
    "\n",
    "# Mengekstrak kueri dan jumlah hits dari setiap baris yang memenuhi\n",
    "matches = [pattern.match(line) for line in output if line.startswith(\"#Word\")]\n",
    "\n",
    "# Menyimpan hasil ke dalam dua list terpisah\n",
    "for match in matches:\n",
    "    if match:\n",
    "        keyword, value = match.groups()\n",
    "        keywords.append(keyword)\n",
    "        values.append(float(value))\n",
    "\n",
    "# Menampilkan hasil\n",
    "print(\"Keywords:\", keywords)\n",
    "print(\"Values:\", values)\n"
   ]
  },
  {
   "cell_type": "code",
   "execution_count": 24,
   "metadata": {},
   "outputs": [
    {
     "name": "stdout",
     "output_type": "stream",
     "text": [
      "('5.txt', 4.188245)\n",
      "('21.txt', 4.120787)\n",
      "('8.txt', 3.947772)\n",
      "('35.txt', 3.933692)\n",
      "('9.txt', 3.904736)\n",
      "('36.txt', 3.545884)\n",
      "('6.txt', 3.545884)\n",
      "('27.txt', 3.471082)\n",
      "('29.txt', 3.327642)\n",
      "('7.txt', 3.152085)\n",
      "('14.txt', 2.949997)\n",
      "('32.txt', 2.925754)\n",
      "('3.txt', 2.793258)\n",
      "('4.txt', 2.793258)\n",
      "('2.txt', 2.753241)\n"
     ]
    }
   ],
   "source": [
    "import re\n",
    "\n",
    "result = [\n",
    "    \"#Found 2355 distict terms in 49 documents\",\n",
    "    \"\",\n",
    "    \"#Word ['cacingan'], fw (num of doc containing the word) = 36.000000\",\n",
    "    \"#Word ['penyakit'], fw (num of doc containing the word) = 41.000000\",\n",
    "    \"\",\n",
    "    \"#Top 15th documents are:\",\n",
    "    \"ID      File Name       value\",\n",
    "    \"5       5.txt           4.188245\",\n",
    "    \"20      21.txt          4.120787\",\n",
    "    \"3       8.txt           3.947772\",\n",
    "    \"7       35.txt          3.933692\",\n",
    "    \"26      9.txt           3.904736\",\n",
    "    \"45      36.txt          3.545884\",\n",
    "    \"32      6.txt           3.545884\",\n",
    "    \"31      27.txt          3.471082\",\n",
    "    \"36      29.txt          3.327642\",\n",
    "    \"38      7.txt           3.152085\",\n",
    "    \"48      14.txt          2.949997\",\n",
    "    \"28      32.txt          2.925754\",\n",
    "    \"23      3.txt           2.793258\",\n",
    "    \"14      4.txt           2.793258\",\n",
    "    \"41      2.txt           2.753241\",\n",
    "    \"#Time required: 0.000000 mseconds\"\n",
    "]\n",
    "\n",
    "# Pola regex untuk mengekstrak nama file dan nilai\n",
    "pattern = re.compile(r\"\\d+\\s+(\\S+)\\s+(\\d+\\.\\d+)\")\n",
    "\n",
    "# Mengekstrak nama file dan nilai dari baris yang sesuai\n",
    "file_value_tuples = [(match.group(1), float(match.group(2))) for line in result if (match := pattern.match(line))]\n",
    "\n",
    "# Menampilkan hasil\n",
    "for file_value_tuple in file_value_tuples:\n",
    "    print(file_value_tuple)\n"
   ]
  },
  {
   "cell_type": "code",
   "execution_count": 51,
   "metadata": {},
   "outputs": [
    {
     "name": "stdout",
     "output_type": "stream",
     "text": [
      "File Names: ['5.txt', '21.txt', '8.txt', '35.txt', '9.txt', '36.txt', '6.txt', '27.txt', '29.txt', '7.txt', '14.txt', '32.txt', '3.txt', '4.txt', '2.txt']\n",
      "Scores: [4.188245, 4.120787, 3.947772, 3.933692, 3.904736, 3.545884, 3.545884, 3.471082, 3.327642, 3.152085, 2.949997, 2.925754, 2.793258, 2.793258, 2.753241]\n"
     ]
    }
   ],
   "source": [
    "import re\n",
    "\n",
    "result = [\n",
    "    \"#Found 2355 distict terms in 49 documents\",\n",
    "    \"\",\n",
    "    \"#Word ['cacingan'], fw (num of doc containing the word) = 36.000000\",\n",
    "    \"#Word ['penyakit'], fw (num of doc containing the word) = 41.000000\",\n",
    "    \"\",\n",
    "    \"#Top 15th documents are:\",\n",
    "    \"ID      File Name       value\",\n",
    "    \"5       5.txt           4.188245\",\n",
    "    \"20      21.txt          4.120787\",\n",
    "    \"3       8.txt           3.947772\",\n",
    "    \"7       35.txt          3.933692\",\n",
    "    \"26      9.txt           3.904736\",\n",
    "    \"45      36.txt          3.545884\",\n",
    "    \"32      6.txt           3.545884\",\n",
    "    \"31      27.txt          3.471082\",\n",
    "    \"36      29.txt          3.327642\",\n",
    "    \"38      7.txt           3.152085\",\n",
    "    \"48      14.txt          2.949997\",\n",
    "    \"28      32.txt          2.925754\",\n",
    "    \"23      3.txt           2.793258\",\n",
    "    \"14      4.txt           2.793258\",\n",
    "    \"41      2.txt           2.753241\",\n",
    "    \"#Time required: 0.000000 mseconds\"\n",
    "]\n",
    "\n",
    "# Pola regex untuk mengekstrak nama file dan nilai\n",
    "pattern = re.compile(r\"\\d+\\s+(\\S+)\\s+(\\d+\\.\\d+)\")\n",
    "\n",
    "# Mengekstrak nama file dan nilai dari baris yang sesuai\n",
    "file_value_tuples = [(match.group(1), float(match.group(2))) for line in result if (match := pattern.match(line))]\n",
    "\n",
    "# Inisialisasi dua list terpisah untuk menyimpan nama file dan skor\n",
    "file_names = [file_value[0] for file_value in file_value_tuples]\n",
    "scores = [file_value[1] for file_value in file_value_tuples]\n",
    "\n",
    "# Menampilkan hasil\n",
    "print(\"File Names:\", file_names)\n",
    "print(\"Scores:\", scores)\n",
    "\n"
   ]
  },
  {
   "cell_type": "code",
   "execution_count": 54,
   "metadata": {},
   "outputs": [
    {
     "name": "stdout",
     "output_type": "stream",
     "text": [
      "0.023\n"
     ]
    }
   ],
   "source": [
    "import re\n",
    "\n",
    "result = [\n",
    "    \"#Found 2355 distict terms in 49 documents\",\n",
    "    \"\",\n",
    "    \"#Word ['cacingan'], fw (num of doc containing the word) = 36.000000\",\n",
    "    \"#Word ['penyakit'], fw (num of doc containing the word) = 41.000000\",\n",
    "    \"\",\n",
    "    \"#Top 15th documents are:\",\n",
    "    \"ID      File Name       value\",\n",
    "    \"5       5.txt           4.188245\",\n",
    "    \"20      21.txt          4.120787\",\n",
    "    \"3       8.txt           3.947772\",\n",
    "    \"7       35.txt          3.933692\",\n",
    "    \"26      9.txt           3.904736\",\n",
    "    \"45      36.txt          3.545884\",\n",
    "    \"32      6.txt           3.545884\",\n",
    "    \"31      27.txt          3.471082\",\n",
    "    \"36      29.txt          3.327642\",\n",
    "    \"38      7.txt           3.152085\",\n",
    "    \"48      14.txt          2.949997\",\n",
    "    \"28      32.txt          2.925754\",\n",
    "    \"23      3.txt           2.793258\",\n",
    "    \"14      4.txt           2.793258\",\n",
    "    \"41      2.txt           2.753241\",\n",
    "    \"#Time required: 23.00000 mseconds\"\n",
    "]\n",
    "\n",
    "# Pola regex untuk mengekstrak angka dari baris yang mengandung kata '#Time'\n",
    "time_pattern = re.compile(r\"#Time required: (\\d+\\.\\d+) mseconds\")\n",
    "\n",
    "# Mengekstrak angka dari baris yang mengandung kata '#Time'\n",
    "time_result = [float(match.group(1)) for line in result if (match := time_pattern.match(line))]\n",
    "\n",
    "# Mengubah waktu dari milidetik ke detik\n",
    "time_in_seconds = time_result[0] / 1000\n",
    "\n",
    "# Menampilkan hasil\n",
    "print(time_in_seconds)"
   ]
  },
  {
   "cell_type": "code",
   "execution_count": 38,
   "metadata": {},
   "outputs": [
    {
     "data": {
      "text/plain": [
       "list"
      ]
     },
     "execution_count": 38,
     "metadata": {},
     "output_type": "execute_result"
    }
   ],
   "source": [
    "type(time_result)"
   ]
  },
  {
   "cell_type": "code",
   "execution_count": null,
   "metadata": {},
   "outputs": [],
   "source": [
    "search_time_seconds=search_time_seconds, \n",
    "keywords=keywords, \n",
    "number_of_hits=number_of_hits, \n",
    "file_names=file_names, \n",
    "scores=scores"
   ]
  },
  {
   "cell_type": "code",
   "execution_count": null,
   "metadata": {},
   "outputs": [],
   "source": [
    "       status, backend, search_time_seconds, number_of_hits, extracted_paths\n",
    "\n",
    "return status, backend, search_time_seconds, number_of_hits, extracted_paths"
   ]
  },
  {
   "cell_type": "code",
   "execution_count": 55,
   "metadata": {},
   "outputs": [
    {
     "name": "stdout",
     "output_type": "stream",
     "text": [
      "Paths: ['./data/4.txt', './data/14.txt', './data/2.txt', './data/26.txt', './data/5.txt', './data/25.txt', './data/32.txt', './data/22.txt', './data/34.txt', './data/31.txt', './data/6.txt', './data/15.txt', './data/9.txt', './data/3.txt', './data/19.txt', './data/20.txt', './data/10.txt']\n",
      "Filenames: ['4.txt', '14.txt', '2.txt', '26.txt', '5.txt', '25.txt', '32.txt', '22.txt', '34.txt', '31.txt', '6.txt', '15.txt', '9.txt', '3.txt', '19.txt', '20.txt', '10.txt']\n"
     ]
    }
   ],
   "source": [
    "import re\n",
    "\n",
    "output = [\n",
    "    \"# SWISH format: 2.4.7\",\n",
    "    \"# Search words: infeksi\",\n",
    "    \"# Removed stopwords:\",\n",
    "    \"# Number of hits: 17\",\n",
    "    \"# Search time: 0,003 seconds\",\n",
    "    \"# Run time: 0,023 seconds\",\n",
    "    '1000 ./data/4.txt \"4.txt\" 2060',\n",
    "    '1000 ./data/14.txt \"14.txt\" 2073',\n",
    "    '862 ./data/2.txt \"2.txt\" 2005',\n",
    "    '862 ./data/26.txt \"26.txt\" 1781',\n",
    "    '862 ./data/5.txt \"5.txt\" 6015',\n",
    "    '862 ./data/25.txt \"25.txt\" 1781',\n",
    "    '681 ./data/32.txt \"32.txt\" 3125',\n",
    "    '681 ./data/22.txt \"22.txt\" 1218',\n",
    "    '431 ./data/34.txt \"34.txt\" 2419',\n",
    "    '431 ./data/31.txt \"31.txt\" 2207',\n",
    "    '431 ./data/6.txt \"6.txt\" 4130',\n",
    "    '431 ./data/15.txt \"15.txt\" 1450',\n",
    "    '431 ./data/9.txt \"9.txt\" 4130',\n",
    "    '431 ./data/3.txt \"3.txt\" 1836',\n",
    "    '431 ./data/19.txt \"19.txt\" 379',\n",
    "    '431 ./data/20.txt \"20.txt\" 354',\n",
    "    '431 ./data/10.txt \"10.txt\" 2440',\n",
    "    '.'\n",
    "]\n",
    "\n",
    "# Pola regex untuk mengekstrak path dan nama file\n",
    "pattern = re.compile(r'\\d+ (\\S+) \"(\\S+)\" \\d+')\n",
    "\n",
    "# List untuk menyimpan path dan nama file\n",
    "paths = []\n",
    "filenames = []\n",
    "\n",
    "# Mengekstrak path dan nama file dari setiap baris output\n",
    "matches = [pattern.match(line) for line in output if pattern.match(line)]\n",
    "\n",
    "# Menambahkan nilai ke dalam list\n",
    "for match in matches:\n",
    "    path = match.group(1)\n",
    "    filename = match.group(2)\n",
    "    paths.append(path)\n",
    "    filenames.append(filename)\n",
    "\n",
    "# Menampilkan hasil\n",
    "print(\"Paths:\", paths)\n",
    "print(\"Filenames:\", filenames)\n"
   ]
  },
  {
   "cell_type": "code",
   "execution_count": null,
   "metadata": {},
   "outputs": [],
   "source": [
    "return render_template('index.html', query=query, status=status, backend=backend,\n",
    "                                search_time_seconds=search_time_seconds, \n",
    "                                number_of_hits=number_of_hits,  \n",
    "                                paths_filenames_zipped_data=paths_filenames_zipped_data)"
   ]
  }
 ],
 "metadata": {
  "kernelspec": {
   "display_name": "env",
   "language": "python",
   "name": "python3"
  },
  "language_info": {
   "codemirror_mode": {
    "name": "ipython",
    "version": 3
   },
   "file_extension": ".py",
   "mimetype": "text/x-python",
   "name": "python",
   "nbconvert_exporter": "python",
   "pygments_lexer": "ipython3",
   "version": "3.10.12"
  }
 },
 "nbformat": 4,
 "nbformat_minor": 2
}
